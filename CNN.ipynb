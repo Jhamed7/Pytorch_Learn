{
 "metadata": {
  "language_info": {
   "codemirror_mode": {
    "name": "ipython",
    "version": 3
   },
   "file_extension": ".py",
   "mimetype": "text/x-python",
   "name": "python",
   "nbconvert_exporter": "python",
   "pygments_lexer": "ipython3",
   "version": "3.8.5-final"
  },
  "orig_nbformat": 2,
  "kernelspec": {
   "name": "python3",
   "display_name": "Python 3.8.5 64-bit ('torch_env': conda)",
   "metadata": {
    "interpreter": {
     "hash": "a540765afc3ebabd983bef2e26554cb4fa4a9b3cc00e78a3b09b81cf7d41d4fb"
    }
   }
  }
 },
 "nbformat": 4,
 "nbformat_minor": 2,
 "cells": [
  {
   "cell_type": "code",
   "execution_count": 1,
   "metadata": {},
   "outputs": [],
   "source": [
    "import torch\n",
    "import torchvision\n",
    "import numpy as np \n",
    "import torch.nn as nn\n",
    "from torchvision import datasets\n",
    "import torch.nn.functional as F \n",
    "from torch.utils.data import DataLoader, Dataset\n",
    "from torchvision.transforms import transforms\n",
    "import matplotlib.pyplot as plt "
   ]
  },
  {
   "cell_type": "code",
   "execution_count": 2,
   "metadata": {},
   "outputs": [
    {
     "output_type": "execute_result",
     "data": {
      "text/plain": [
       "'cpu'"
      ]
     },
     "metadata": {},
     "execution_count": 2
    }
   ],
   "source": [
    "device = ('cuda' if torch.cuda.is_available() else 'cpu')\n",
    "device"
   ]
  },
  {
   "source": [
    "## Importing Data"
   ],
   "cell_type": "markdown",
   "metadata": {}
  },
  {
   "cell_type": "code",
   "execution_count": 3,
   "metadata": {},
   "outputs": [],
   "source": [
    "def unpickle(file):\n",
    "    import pickle\n",
    "    with open(file, 'rb') as fo:\n",
    "        dict = pickle.load(fo, encoding='bytes')\n",
    "    return dict"
   ]
  },
  {
   "cell_type": "code",
   "execution_count": 4,
   "metadata": {},
   "outputs": [],
   "source": [
    "raw_train_dataset = []\n",
    "raw_train_label = []\n",
    "raw_test_dataset = []\n",
    "raw_test_label = []\n",
    "\n",
    "for files in os.listdir('./data/Cifar10'):\n",
    "    if files.find('data') == 0:\n",
    "       #print(type(files))\n",
    "       data = unpickle('./data/Cifar10/'+files)\n",
    "       #print(type(data[b'data']))\n",
    "       raw_train_dataset.append(data[b'data'])\n",
    "       raw_train_label.append(data[b'labels'])\n",
    "    elif files.find('test') == 0:\n",
    "        data_test = unpickle('./data/Cifar10/'+files)\n",
    "        raw_test_dataset.append(data_test[b'data'])\n",
    "        raw_test_label.append(data_test[b'labels'])\n",
    "\n",
    "dataset_train = np.concatenate((raw_train_dataset), axis=0) #numpy array with [50000, 3072] size\n",
    "label_train = np.concatenate(raw_train_label, axis=0)\n",
    "dataset_test = np.concatenate((raw_test_dataset), axis=0) #numpy array with [10000, 3072] size\n",
    "label_test = np.concatenate(raw_test_label, axis=0)"
   ]
  },
  {
   "cell_type": "code",
   "execution_count": 5,
   "metadata": {},
   "outputs": [
    {
     "output_type": "stream",
     "name": "stdout",
     "text": [
      "(50000, 3072) <class 'numpy.ndarray'> uint8\n(10000, 3072)\n(50000,) <class 'numpy.ndarray'> int32\n(10000,) <class 'numpy.ndarray'> int32\n"
     ]
    }
   ],
   "source": [
    "print((dataset_train).shape, type(dataset_train), dataset_train.dtype)\n",
    "print((dataset_test).shape)\n",
    "print((label_train).shape, type(label_train), label_train.dtype)\n",
    "print((label_test).shape, type(label_test), label_test.dtype)\n",
    "#torch.from_numpy(label_train).shape"
   ]
  },
  {
   "cell_type": "code",
   "execution_count": 6,
   "metadata": {},
   "outputs": [],
   "source": [
    "class cifar_data(Dataset):\n",
    "    def __init__(self, train=True):\n",
    "        super(cifar_data,self).__init__()\n",
    "\n",
    "        if train:\n",
    "            self.data = torch.from_numpy(dataset_train).to(dtype= torch.float32, device=device)\n",
    "            self.label = torch.from_numpy(label_train).to(dtype= torch.float32, device= device)\n",
    "        else:\n",
    "            self.data = torch.from_numpy(dataset_test).to(dtype= torch.float32, device=device)\n",
    "            self.label = torch.from_numpy(label_test).to(dtype= torch.float32, device= device)\n",
    "\n",
    "        self.transform = transforms.Compose([transforms.Normalize((0.5,0.5,0.5), (0.5,0.5,0.5))])\n",
    "        self.classes = ('plane', 'car', 'bird', 'cat', 'deer', 'dog', 'frog', 'horse', 'ship', 'truck')\n",
    "        \n",
    "    \n",
    "    def __getitem__(self,index):\n",
    "        sample_img = self.transform(self.data[index].view(3,32,32))\n",
    "        return (sample_img, self.label[index])\n",
    "\n",
    "    def __len__(self):\n",
    "        return len(self.data)\n",
    "\n",
    "    def obj_class(self,index):\n",
    "        return self.classes[self.label[index].to(torch.int).item()] \n"
   ]
  },
  {
   "cell_type": "code",
   "execution_count": 8,
   "metadata": {},
   "outputs": [
    {
     "output_type": "stream",
     "name": "stdout",
     "text": [
      "\nThis sample is: cat\n\n"
     ]
    },
    {
     "output_type": "display_data",
     "data": {
      "text/plain": "<Figure size 432x288 with 1 Axes>",
      "image/svg+xml": "<?xml version=\"1.0\" encoding=\"utf-8\" standalone=\"no\"?>\r\n<!DOCTYPE svg PUBLIC \"-//W3C//DTD SVG 1.1//EN\"\r\n  \"http://www.w3.org/Graphics/SVG/1.1/DTD/svg11.dtd\">\r\n<!-- Created with matplotlib (https://matplotlib.org/) -->\r\n<svg height=\"248.919844pt\" version=\"1.1\" viewBox=\"0 0 251.565 248.919844\" width=\"251.565pt\" xmlns=\"http://www.w3.org/2000/svg\" xmlns:xlink=\"http://www.w3.org/1999/xlink\">\r\n <metadata>\r\n  <rdf:RDF xmlns:cc=\"http://creativecommons.org/ns#\" xmlns:dc=\"http://purl.org/dc/elements/1.1/\" xmlns:rdf=\"http://www.w3.org/1999/02/22-rdf-syntax-ns#\">\r\n   <cc:Work>\r\n    <dc:type rdf:resource=\"http://purl.org/dc/dcmitype/StillImage\"/>\r\n    <dc:date>2021-03-24T18:42:56.896150</dc:date>\r\n    <dc:format>image/svg+xml</dc:format>\r\n    <dc:creator>\r\n     <cc:Agent>\r\n      <dc:title>Matplotlib v3.3.2, https://matplotlib.org/</dc:title>\r\n     </cc:Agent>\r\n    </dc:creator>\r\n   </cc:Work>\r\n  </rdf:RDF>\r\n </metadata>\r\n <defs>\r\n  <style type=\"text/css\">*{stroke-linecap:butt;stroke-linejoin:round;}</style>\r\n </defs>\r\n <g id=\"figure_1\">\r\n  <g id=\"patch_1\">\r\n   <path d=\"M 0 248.919844 \r\nL 251.565 248.919844 \r\nL 251.565 0 \r\nL 0 0 \r\nz\r\n\" style=\"fill:none;\"/>\r\n  </g>\r\n  <g id=\"axes_1\">\r\n   <g id=\"patch_2\">\r\n    <path d=\"M 26.925 225.041719 \r\nL 244.365 225.041719 \r\nL 244.365 7.601719 \r\nL 26.925 7.601719 \r\nz\r\n\" style=\"fill:#ffffff;\"/>\r\n   </g>\r\n   <g clip-path=\"url(#p3a80fdb4fa)\">\r\n    <image height=\"218\" id=\"image2208856051\" transform=\"scale(1 -1)translate(0 -218)\" width=\"218\" x=\"26.925\" xlink:href=\"data:image/png;base64,\r\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\" y=\"-7.041719\"/>\r\n   </g>\r\n   <g id=\"matplotlib.axis_1\">\r\n    <g id=\"xtick_1\">\r\n     <g id=\"line2d_1\">\r\n      <defs>\r\n       <path d=\"M 0 0 \r\nL 0 3.5 \r\n\" id=\"md2ca44e785\" style=\"stroke:#000000;stroke-width:0.8;\"/>\r\n      </defs>\r\n      <g>\r\n       <use style=\"stroke:#000000;stroke-width:0.8;\" x=\"30.3225\" xlink:href=\"#md2ca44e785\" y=\"225.041719\"/>\r\n      </g>\r\n     </g>\r\n     <g id=\"text_1\">\r\n      <!-- 0 -->\r\n      <g transform=\"translate(27.14125 239.640156)scale(0.1 -0.1)\">\r\n       <defs>\r\n        <path d=\"M 31.78125 66.40625 \r\nQ 24.171875 66.40625 20.328125 58.90625 \r\nQ 16.5 51.421875 16.5 36.375 \r\nQ 16.5 21.390625 20.328125 13.890625 \r\nQ 24.171875 6.390625 31.78125 6.390625 \r\nQ 39.453125 6.390625 43.28125 13.890625 \r\nQ 47.125 21.390625 47.125 36.375 \r\nQ 47.125 51.421875 43.28125 58.90625 \r\nQ 39.453125 66.40625 31.78125 66.40625 \r\nz\r\nM 31.78125 74.21875 \r\nQ 44.046875 74.21875 50.515625 64.515625 \r\nQ 56.984375 54.828125 56.984375 36.375 \r\nQ 56.984375 17.96875 50.515625 8.265625 \r\nQ 44.046875 -1.421875 31.78125 -1.421875 \r\nQ 19.53125 -1.421875 13.0625 8.265625 \r\nQ 6.59375 17.96875 6.59375 36.375 \r\nQ 6.59375 54.828125 13.0625 64.515625 \r\nQ 19.53125 74.21875 31.78125 74.21875 \r\nz\r\n\" id=\"DejaVuSans-48\"/>\r\n       </defs>\r\n       <use xlink:href=\"#DejaVuSans-48\"/>\r\n      </g>\r\n     </g>\r\n    </g>\r\n    <g id=\"xtick_2\">\r\n     <g id=\"line2d_2\">\r\n      <g>\r\n       <use style=\"stroke:#000000;stroke-width:0.8;\" x=\"64.2975\" xlink:href=\"#md2ca44e785\" y=\"225.041719\"/>\r\n      </g>\r\n     </g>\r\n     <g id=\"text_2\">\r\n      <!-- 5 -->\r\n      <g transform=\"translate(61.11625 239.640156)scale(0.1 -0.1)\">\r\n       <defs>\r\n        <path d=\"M 10.796875 72.90625 \r\nL 49.515625 72.90625 \r\nL 49.515625 64.59375 \r\nL 19.828125 64.59375 \r\nL 19.828125 46.734375 \r\nQ 21.96875 47.46875 24.109375 47.828125 \r\nQ 26.265625 48.1875 28.421875 48.1875 \r\nQ 40.625 48.1875 47.75 41.5 \r\nQ 54.890625 34.8125 54.890625 23.390625 \r\nQ 54.890625 11.625 47.5625 5.09375 \r\nQ 40.234375 -1.421875 26.90625 -1.421875 \r\nQ 22.3125 -1.421875 17.546875 -0.640625 \r\nQ 12.796875 0.140625 7.71875 1.703125 \r\nL 7.71875 11.625 \r\nQ 12.109375 9.234375 16.796875 8.0625 \r\nQ 21.484375 6.890625 26.703125 6.890625 \r\nQ 35.15625 6.890625 40.078125 11.328125 \r\nQ 45.015625 15.765625 45.015625 23.390625 \r\nQ 45.015625 31 40.078125 35.4375 \r\nQ 35.15625 39.890625 26.703125 39.890625 \r\nQ 22.75 39.890625 18.8125 39.015625 \r\nQ 14.890625 38.140625 10.796875 36.28125 \r\nz\r\n\" id=\"DejaVuSans-53\"/>\r\n       </defs>\r\n       <use xlink:href=\"#DejaVuSans-53\"/>\r\n      </g>\r\n     </g>\r\n    </g>\r\n    <g id=\"xtick_3\">\r\n     <g id=\"line2d_3\">\r\n      <g>\r\n       <use style=\"stroke:#000000;stroke-width:0.8;\" x=\"98.2725\" xlink:href=\"#md2ca44e785\" y=\"225.041719\"/>\r\n      </g>\r\n     </g>\r\n     <g id=\"text_3\">\r\n      <!-- 10 -->\r\n      <g transform=\"translate(91.91 239.640156)scale(0.1 -0.1)\">\r\n       <defs>\r\n        <path d=\"M 12.40625 8.296875 \r\nL 28.515625 8.296875 \r\nL 28.515625 63.921875 \r\nL 10.984375 60.40625 \r\nL 10.984375 69.390625 \r\nL 28.421875 72.90625 \r\nL 38.28125 72.90625 \r\nL 38.28125 8.296875 \r\nL 54.390625 8.296875 \r\nL 54.390625 0 \r\nL 12.40625 0 \r\nz\r\n\" id=\"DejaVuSans-49\"/>\r\n       </defs>\r\n       <use xlink:href=\"#DejaVuSans-49\"/>\r\n       <use x=\"63.623047\" xlink:href=\"#DejaVuSans-48\"/>\r\n      </g>\r\n     </g>\r\n    </g>\r\n    <g id=\"xtick_4\">\r\n     <g id=\"line2d_4\">\r\n      <g>\r\n       <use style=\"stroke:#000000;stroke-width:0.8;\" x=\"132.2475\" xlink:href=\"#md2ca44e785\" y=\"225.041719\"/>\r\n      </g>\r\n     </g>\r\n     <g id=\"text_4\">\r\n      <!-- 15 -->\r\n      <g transform=\"translate(125.885 239.640156)scale(0.1 -0.1)\">\r\n       <use xlink:href=\"#DejaVuSans-49\"/>\r\n       <use x=\"63.623047\" xlink:href=\"#DejaVuSans-53\"/>\r\n      </g>\r\n     </g>\r\n    </g>\r\n    <g id=\"xtick_5\">\r\n     <g id=\"line2d_5\">\r\n      <g>\r\n       <use style=\"stroke:#000000;stroke-width:0.8;\" x=\"166.2225\" xlink:href=\"#md2ca44e785\" y=\"225.041719\"/>\r\n      </g>\r\n     </g>\r\n     <g id=\"text_5\">\r\n      <!-- 20 -->\r\n      <g transform=\"translate(159.86 239.640156)scale(0.1 -0.1)\">\r\n       <defs>\r\n        <path d=\"M 19.1875 8.296875 \r\nL 53.609375 8.296875 \r\nL 53.609375 0 \r\nL 7.328125 0 \r\nL 7.328125 8.296875 \r\nQ 12.9375 14.109375 22.625 23.890625 \r\nQ 32.328125 33.6875 34.8125 36.53125 \r\nQ 39.546875 41.84375 41.421875 45.53125 \r\nQ 43.3125 49.21875 43.3125 52.78125 \r\nQ 43.3125 58.59375 39.234375 62.25 \r\nQ 35.15625 65.921875 28.609375 65.921875 \r\nQ 23.96875 65.921875 18.8125 64.3125 \r\nQ 13.671875 62.703125 7.8125 59.421875 \r\nL 7.8125 69.390625 \r\nQ 13.765625 71.78125 18.9375 73 \r\nQ 24.125 74.21875 28.421875 74.21875 \r\nQ 39.75 74.21875 46.484375 68.546875 \r\nQ 53.21875 62.890625 53.21875 53.421875 \r\nQ 53.21875 48.921875 51.53125 44.890625 \r\nQ 49.859375 40.875 45.40625 35.40625 \r\nQ 44.1875 33.984375 37.640625 27.21875 \r\nQ 31.109375 20.453125 19.1875 8.296875 \r\nz\r\n\" id=\"DejaVuSans-50\"/>\r\n       </defs>\r\n       <use xlink:href=\"#DejaVuSans-50\"/>\r\n       <use x=\"63.623047\" xlink:href=\"#DejaVuSans-48\"/>\r\n      </g>\r\n     </g>\r\n    </g>\r\n    <g id=\"xtick_6\">\r\n     <g id=\"line2d_6\">\r\n      <g>\r\n       <use style=\"stroke:#000000;stroke-width:0.8;\" x=\"200.1975\" xlink:href=\"#md2ca44e785\" y=\"225.041719\"/>\r\n      </g>\r\n     </g>\r\n     <g id=\"text_6\">\r\n      <!-- 25 -->\r\n      <g transform=\"translate(193.835 239.640156)scale(0.1 -0.1)\">\r\n       <use xlink:href=\"#DejaVuSans-50\"/>\r\n       <use x=\"63.623047\" xlink:href=\"#DejaVuSans-53\"/>\r\n      </g>\r\n     </g>\r\n    </g>\r\n    <g id=\"xtick_7\">\r\n     <g id=\"line2d_7\">\r\n      <g>\r\n       <use style=\"stroke:#000000;stroke-width:0.8;\" x=\"234.1725\" xlink:href=\"#md2ca44e785\" y=\"225.041719\"/>\r\n      </g>\r\n     </g>\r\n     <g id=\"text_7\">\r\n      <!-- 30 -->\r\n      <g transform=\"translate(227.81 239.640156)scale(0.1 -0.1)\">\r\n       <defs>\r\n        <path d=\"M 40.578125 39.3125 \r\nQ 47.65625 37.796875 51.625 33 \r\nQ 55.609375 28.21875 55.609375 21.1875 \r\nQ 55.609375 10.40625 48.1875 4.484375 \r\nQ 40.765625 -1.421875 27.09375 -1.421875 \r\nQ 22.515625 -1.421875 17.65625 -0.515625 \r\nQ 12.796875 0.390625 7.625 2.203125 \r\nL 7.625 11.71875 \r\nQ 11.71875 9.328125 16.59375 8.109375 \r\nQ 21.484375 6.890625 26.8125 6.890625 \r\nQ 36.078125 6.890625 40.9375 10.546875 \r\nQ 45.796875 14.203125 45.796875 21.1875 \r\nQ 45.796875 27.640625 41.28125 31.265625 \r\nQ 36.765625 34.90625 28.71875 34.90625 \r\nL 20.21875 34.90625 \r\nL 20.21875 43.015625 \r\nL 29.109375 43.015625 \r\nQ 36.375 43.015625 40.234375 45.921875 \r\nQ 44.09375 48.828125 44.09375 54.296875 \r\nQ 44.09375 59.90625 40.109375 62.90625 \r\nQ 36.140625 65.921875 28.71875 65.921875 \r\nQ 24.65625 65.921875 20.015625 65.03125 \r\nQ 15.375 64.15625 9.8125 62.3125 \r\nL 9.8125 71.09375 \r\nQ 15.4375 72.65625 20.34375 73.4375 \r\nQ 25.25 74.21875 29.59375 74.21875 \r\nQ 40.828125 74.21875 47.359375 69.109375 \r\nQ 53.90625 64.015625 53.90625 55.328125 \r\nQ 53.90625 49.265625 50.4375 45.09375 \r\nQ 46.96875 40.921875 40.578125 39.3125 \r\nz\r\n\" id=\"DejaVuSans-51\"/>\r\n       </defs>\r\n       <use xlink:href=\"#DejaVuSans-51\"/>\r\n       <use x=\"63.623047\" xlink:href=\"#DejaVuSans-48\"/>\r\n      </g>\r\n     </g>\r\n    </g>\r\n   </g>\r\n   <g id=\"matplotlib.axis_2\">\r\n    <g id=\"ytick_1\">\r\n     <g id=\"line2d_8\">\r\n      <defs>\r\n       <path d=\"M 0 0 \r\nL -3.5 0 \r\n\" id=\"m71d0066354\" style=\"stroke:#000000;stroke-width:0.8;\"/>\r\n      </defs>\r\n      <g>\r\n       <use style=\"stroke:#000000;stroke-width:0.8;\" x=\"26.925\" xlink:href=\"#m71d0066354\" y=\"10.999219\"/>\r\n      </g>\r\n     </g>\r\n     <g id=\"text_8\">\r\n      <!-- 0 -->\r\n      <g transform=\"translate(13.5625 14.798437)scale(0.1 -0.1)\">\r\n       <use xlink:href=\"#DejaVuSans-48\"/>\r\n      </g>\r\n     </g>\r\n    </g>\r\n    <g id=\"ytick_2\">\r\n     <g id=\"line2d_9\">\r\n      <g>\r\n       <use style=\"stroke:#000000;stroke-width:0.8;\" x=\"26.925\" xlink:href=\"#m71d0066354\" y=\"44.974219\"/>\r\n      </g>\r\n     </g>\r\n     <g id=\"text_9\">\r\n      <!-- 5 -->\r\n      <g transform=\"translate(13.5625 48.773437)scale(0.1 -0.1)\">\r\n       <use xlink:href=\"#DejaVuSans-53\"/>\r\n      </g>\r\n     </g>\r\n    </g>\r\n    <g id=\"ytick_3\">\r\n     <g id=\"line2d_10\">\r\n      <g>\r\n       <use style=\"stroke:#000000;stroke-width:0.8;\" x=\"26.925\" xlink:href=\"#m71d0066354\" y=\"78.949219\"/>\r\n      </g>\r\n     </g>\r\n     <g id=\"text_10\">\r\n      <!-- 10 -->\r\n      <g transform=\"translate(7.2 82.748437)scale(0.1 -0.1)\">\r\n       <use xlink:href=\"#DejaVuSans-49\"/>\r\n       <use x=\"63.623047\" xlink:href=\"#DejaVuSans-48\"/>\r\n      </g>\r\n     </g>\r\n    </g>\r\n    <g id=\"ytick_4\">\r\n     <g id=\"line2d_11\">\r\n      <g>\r\n       <use style=\"stroke:#000000;stroke-width:0.8;\" x=\"26.925\" xlink:href=\"#m71d0066354\" y=\"112.924219\"/>\r\n      </g>\r\n     </g>\r\n     <g id=\"text_11\">\r\n      <!-- 15 -->\r\n      <g transform=\"translate(7.2 116.723437)scale(0.1 -0.1)\">\r\n       <use xlink:href=\"#DejaVuSans-49\"/>\r\n       <use x=\"63.623047\" xlink:href=\"#DejaVuSans-53\"/>\r\n      </g>\r\n     </g>\r\n    </g>\r\n    <g id=\"ytick_5\">\r\n     <g id=\"line2d_12\">\r\n      <g>\r\n       <use style=\"stroke:#000000;stroke-width:0.8;\" x=\"26.925\" xlink:href=\"#m71d0066354\" y=\"146.899219\"/>\r\n      </g>\r\n     </g>\r\n     <g id=\"text_12\">\r\n      <!-- 20 -->\r\n      <g transform=\"translate(7.2 150.698437)scale(0.1 -0.1)\">\r\n       <use xlink:href=\"#DejaVuSans-50\"/>\r\n       <use x=\"63.623047\" xlink:href=\"#DejaVuSans-48\"/>\r\n      </g>\r\n     </g>\r\n    </g>\r\n    <g id=\"ytick_6\">\r\n     <g id=\"line2d_13\">\r\n      <g>\r\n       <use style=\"stroke:#000000;stroke-width:0.8;\" x=\"26.925\" xlink:href=\"#m71d0066354\" y=\"180.874219\"/>\r\n      </g>\r\n     </g>\r\n     <g id=\"text_13\">\r\n      <!-- 25 -->\r\n      <g transform=\"translate(7.2 184.673437)scale(0.1 -0.1)\">\r\n       <use xlink:href=\"#DejaVuSans-50\"/>\r\n       <use x=\"63.623047\" xlink:href=\"#DejaVuSans-53\"/>\r\n      </g>\r\n     </g>\r\n    </g>\r\n    <g id=\"ytick_7\">\r\n     <g id=\"line2d_14\">\r\n      <g>\r\n       <use style=\"stroke:#000000;stroke-width:0.8;\" x=\"26.925\" xlink:href=\"#m71d0066354\" y=\"214.849219\"/>\r\n      </g>\r\n     </g>\r\n     <g id=\"text_14\">\r\n      <!-- 30 -->\r\n      <g transform=\"translate(7.2 218.648437)scale(0.1 -0.1)\">\r\n       <use xlink:href=\"#DejaVuSans-51\"/>\r\n       <use x=\"63.623047\" xlink:href=\"#DejaVuSans-48\"/>\r\n      </g>\r\n     </g>\r\n    </g>\r\n   </g>\r\n   <g id=\"patch_3\">\r\n    <path d=\"M 26.925 225.041719 \r\nL 26.925 7.601719 \r\n\" style=\"fill:none;stroke:#000000;stroke-linecap:square;stroke-linejoin:miter;stroke-width:0.8;\"/>\r\n   </g>\r\n   <g id=\"patch_4\">\r\n    <path d=\"M 244.365 225.041719 \r\nL 244.365 7.601719 \r\n\" style=\"fill:none;stroke:#000000;stroke-linecap:square;stroke-linejoin:miter;stroke-width:0.8;\"/>\r\n   </g>\r\n   <g id=\"patch_5\">\r\n    <path d=\"M 26.925 225.041719 \r\nL 244.365 225.041719 \r\n\" style=\"fill:none;stroke:#000000;stroke-linecap:square;stroke-linejoin:miter;stroke-width:0.8;\"/>\r\n   </g>\r\n   <g id=\"patch_6\">\r\n    <path d=\"M 26.925 7.601719 \r\nL 244.365 7.601719 \r\n\" style=\"fill:none;stroke:#000000;stroke-linecap:square;stroke-linejoin:miter;stroke-width:0.8;\"/>\r\n   </g>\r\n  </g>\r\n </g>\r\n <defs>\r\n  <clipPath id=\"p3a80fdb4fa\">\r\n   <rect height=\"217.44\" width=\"217.44\" x=\"26.925\" y=\"7.601719\"/>\r\n  </clipPath>\r\n </defs>\r\n</svg>\r\n",
      "image/png": "[encoded data removed]"
     },
     "metadata": {
      "needs_background": "light"
     }
    }
   ],
   "source": [
    "# Samples of Dataset\n",
    "my_cifar_train = cifar_data(train=True)\n",
    "my_cifar_test = cifar_data(train=False)\n",
    "\n",
    "num_sample = torch.randint(10000,(1,))\n",
    "img=my_cifar_test[num_sample][0]\n",
    "print(f'\\nThis sample is: {my_cifar_test.obj_class(num_sample)}\\n')\n",
    "img = img / 2 + 0.5 # unnormalize\n",
    "npimg = img.numpy()\n",
    "plt.imshow(np.transpose(npimg, (1, 2, 0))/255)\n",
    "plt.show()"
   ]
  },
  {
   "cell_type": "code",
   "execution_count": 9,
   "metadata": {},
   "outputs": [
    {
     "output_type": "stream",
     "name": "stdout",
     "text": [
      "torch.Size([1000, 3, 32, 32])\ntorch.Size([500, 3, 32, 32])\n"
     ]
    }
   ],
   "source": [
    "# Data Loader\n",
    "train_loader = DataLoader(dataset= my_cifar_train, batch_size= 1000, shuffle= True)\n",
    "sample_train = next(iter(train_loader))\n",
    "print(sample_train[0].shape)\n",
    "\n",
    "test_loader = DataLoader(dataset= my_cifar_test, batch_size= 500, shuffle= False)\n",
    "sample_test = next(iter(test_loader))\n",
    "print(sample_test[0].shape)"
   ]
  },
  {
   "cell_type": "code",
   "execution_count": 10,
   "metadata": {},
   "outputs": [
    {
     "output_type": "execute_result",
     "data": {
      "text/plain": [
       "'\\nyou can use this formula [(W−K+2P)/S]+1.\\n\\nW is the input volume - in your case 32\\nK is the Kernel size - in your case 5\\nP is the padding - in your case 0\\nS is the stride - which is 1.\\n'"
      ]
     },
     "metadata": {},
     "execution_count": 10
    }
   ],
   "source": [
    "'''\n",
    "you can use this formula [(W−K+2P)/S]+1.\n",
    "\n",
    "W is the input volume - in your case 32\n",
    "K is the Kernel size - in your case 5\n",
    "P is the padding - in your case 0\n",
    "S is the stride - which is 1.\n",
    "'''"
   ]
  },
  {
   "cell_type": "code",
   "execution_count": 11,
   "metadata": {},
   "outputs": [],
   "source": [
    "# CNN Network\n",
    "class network(nn.Module):\n",
    "    def __init__(self):\n",
    "        super(network, self).__init__()\n",
    "        self.conv1 = nn.Conv2d(in_channels=3, out_channels=6, kernel_size=5, stride=1, padding=0)\n",
    "        # output width c1 : [(32-5+2*0)/1]+1 = 28\n",
    "        self.relu = nn.ReLU()\n",
    "        self.pool = nn.MaxPool2d(kernel_size=2, stride=2, padding=0)\n",
    "        # output width first pooling : 14\n",
    "        self.conv2 = nn.Conv2d(6, 16, 5)\n",
    "        # output width c2 : [(14-5+0)/1]+1 = 10 > after second pooling : 5\n",
    "        self.fc1 = nn.Linear(16*5*5, 200)\n",
    "        self.fc2 = nn.Linear(200, 80)\n",
    "        self.fc3 = nn.Linear(80, 10)\n",
    "\n",
    "    def forward(self, x):\n",
    "        x = self.pool(self.relu(self.conv1(x)))\n",
    "        x = self.pool(self.relu(self.conv2(x)))\n",
    "        x = self.relu(self.fc1(x.view(-1, 16*5*5)))\n",
    "        x = self.relu(self.fc2(x))\n",
    "        x = self.fc3(x)\n",
    "        return x\n",
    "        \n",
    "net = network()    "
   ]
  },
  {
   "source": [
    "## Network Features"
   ],
   "cell_type": "markdown",
   "metadata": {}
  },
  {
   "cell_type": "code",
   "execution_count": 12,
   "metadata": {},
   "outputs": [
    {
     "output_type": "stream",
     "name": "stdout",
     "text": [
      "network(\n  (conv1): Conv2d(3, 6, kernel_size=(5, 5), stride=(1, 1))\n  (relu): ReLU()\n  (pool): MaxPool2d(kernel_size=2, stride=2, padding=0, dilation=1, ceil_mode=False)\n  (conv2): Conv2d(6, 16, kernel_size=(5, 5), stride=(1, 1))\n  (fc1): Linear(in_features=400, out_features=200, bias=True)\n  (fc2): Linear(in_features=200, out_features=80, bias=True)\n  (fc3): Linear(in_features=80, out_features=10, bias=True)\n)\n"
     ]
    }
   ],
   "source": [
    "print(net)"
   ]
  },
  {
   "cell_type": "code",
   "execution_count": 32,
   "metadata": {},
   "outputs": [
    {
     "output_type": "stream",
     "name": "stdout",
     "text": [
      "odict_keys(['conv1.weight', 'conv1.bias', 'conv2.weight', 'conv2.bias', 'fc1.weight', 'fc1.bias', 'fc2.weight', 'fc2.bias', 'fc3.weight', 'fc3.bias'])\ntorch.Size([6, 3, 5, 5])\n\n tensor([-0.0802, -0.0429,  0.0231, -0.0343, -0.0738,  0.0498, -0.0542, -0.0786,\n         0.0244, -0.1067])\ntensor([-0.0802, -0.0429,  0.0231, -0.0343, -0.0738,  0.0498, -0.0542, -0.0786,\n         0.0244, -0.1067])\n"
     ]
    }
   ],
   "source": [
    "print(net.state_dict().keys())\n",
    "\n",
    "print(net.state_dict()['conv1.weight'].shape)\n",
    "\n",
    "torch.save(net.state_dict(), './cnn_net.pt') # save network state\n",
    "New_net = network() # make a new Raw network\n",
    "stat_dict = torch.load('./cnn_net.pt') # Load saved parameters\n",
    "New_net.load_state_dict(stat_dict) # Import parameters to New network\n",
    "print('\\n',net.state_dict()['fc3.bias'])\n",
    "print(New_net.state_dict()['fc3.bias'])"
   ]
  },
  {
   "cell_type": "code",
   "execution_count": 36,
   "metadata": {},
   "outputs": [
    {
     "output_type": "execute_result",
     "data": {
      "text/plain": [
       "<bound method Module.parameters of network(\n",
       "  (conv1): Conv2d(3, 6, kernel_size=(5, 5), stride=(1, 1))\n",
       "  (relu): ReLU()\n",
       "  (pool): MaxPool2d(kernel_size=2, stride=2, padding=0, dilation=1, ceil_mode=False)\n",
       "  (conv2): Conv2d(6, 16, kernel_size=(5, 5), stride=(1, 1))\n",
       "  (fc1): Linear(in_features=400, out_features=200, bias=True)\n",
       "  (fc2): Linear(in_features=200, out_features=80, bias=True)\n",
       "  (fc3): Linear(in_features=80, out_features=10, bias=True)\n",
       ")>"
      ]
     },
     "metadata": {},
     "execution_count": 36
    }
   ],
   "source": [
    "net.parameters"
   ]
  },
  {
   "cell_type": "code",
   "execution_count": 39,
   "metadata": {},
   "outputs": [
    {
     "output_type": "stream",
     "name": "stdout",
     "text": [
      "torch.Size([6, 3, 5, 5])\ntorch.Size([6])\ntorch.Size([16, 6, 5, 5])\ntorch.Size([16])\ntorch.Size([200, 400])\ntorch.Size([200])\ntorch.Size([80, 200])\ntorch.Size([80])\ntorch.Size([10, 80])\ntorch.Size([10])\n"
     ]
    }
   ],
   "source": [
    "for p in net.parameters():\n",
    "    print(p.shape)"
   ]
  },
  {
   "source": [
    "## Network Training"
   ],
   "cell_type": "markdown",
   "metadata": {}
  },
  {
   "cell_type": "code",
   "execution_count": 26,
   "metadata": {},
   "outputs": [],
   "source": [
    "loss_fn = nn.CrossEntropyLoss()\n",
    "opt = torch.optim.SGD(net.parameters(), lr = 0.001, momentum= 0.9)\n",
    "# learning rate schedular\n",
    "#schedular = torch.optim.lr_scheduler.StepLR(opt, step_size=10, gamma=0.1) # every 'step_size' epoch, multiply lr by gamma"
   ]
  },
  {
   "cell_type": "code",
   "execution_count": 73,
   "metadata": {},
   "outputs": [
    {
     "output_type": "stream",
     "name": "stdout",
     "text": [
      "Epoch: 1/1 , Iteration: 0 , Loss:  2.3027\n",
      "Epoch: 1/1 , Iteration: 10 , Loss:  2.3022\n",
      "Epoch: 1/1 , Iteration: 20 , Loss:  2.2992\n",
      "Epoch: 1/1 , Iteration: 30 , Loss:  2.3032\n",
      "Epoch: 1/1 , Iteration: 40 , Loss:  2.3003\n",
      "Test data accuracy: 1121/20\n"
     ]
    }
   ],
   "source": [
    "# Training Loop\n",
    "num_epoch = 1\n",
    "num_correct = 0\n",
    "\n",
    "for epoch in range(num_epoch):\n",
    "\n",
    "    for i, (img, label) in enumerate(train_loader):\n",
    "\n",
    "        pred = net(img)\n",
    "\n",
    "        loss = loss_fn(pred, label.to(torch.long))\n",
    "\n",
    "        opt.zero_grad()\n",
    "        loss.backward()\n",
    "        opt.step()\n",
    "\n",
    "        if i%10 == 0: print(f'Epoch: {epoch+1}/{num_epoch} , Iteration: {i} , Loss: {loss.item(): .4f}')\n",
    "        \n",
    "        # Test data result at the End of each epoch\n",
    "        if i == 49:\n",
    "            with torch.no_grad():\n",
    "                for j , (img_test, label_test) in enumerate(test_loader):\n",
    "                    pred_test = net(img_test)\n",
    "                    num_correct += len(torch.where(pred_test.max(axis=1).indices == label_test.to(torch.long))[0])\n",
    "                print(f'Test data accuracy for epoch {epoch+1} is: {num_correct}/{len(my_cifar_test)}')\n"
   ]
  },
  {
   "source": [
    "## Code example from : \n",
    "https://github.com/python-engineer/pytorchTutorial/blob/master/15_transfer_learning.py"
   ],
   "cell_type": "markdown",
   "metadata": {}
  },
  {
   "cell_type": "code",
   "execution_count": null,
   "metadata": {},
   "outputs": [],
   "source": [
    "def train_model(model, criterion, optimizer, scheduler, num_epochs=25):\n",
    "    since = time.time()\n",
    "\n",
    "    best_model_wts = copy.deepcopy(model.state_dict())\n",
    "    best_acc = 0.0\n",
    "\n",
    "    for epoch in range(num_epochs):\n",
    "        print('Epoch {}/{}'.format(epoch, num_epochs - 1))\n",
    "        print('-' * 10)\n",
    "\n",
    "        # Each epoch has a training and validation phase\n",
    "        for phase in ['train', 'val']:\n",
    "            if phase == 'train':\n",
    "                model.train()  # Set model to training mode\n",
    "            else:\n",
    "                model.eval()   # Set model to evaluate mode\n",
    "\n",
    "            running_loss = 0.0\n",
    "            running_corrects = 0\n",
    "\n",
    "            # Iterate over data.\n",
    "            for inputs, labels in dataloaders[phase]:\n",
    "                inputs = inputs.to(device)\n",
    "                labels = labels.to(device)\n",
    "\n",
    "                # forward\n",
    "                # track history if only in train\n",
    "                with torch.set_grad_enabled(phase == 'train'):\n",
    "                    outputs = model(inputs)\n",
    "                    _, preds = torch.max(outputs, 1)\n",
    "                    loss = criterion(outputs, labels)\n",
    "\n",
    "                    # backward + optimize only if in training phase\n",
    "                    if phase == 'train':\n",
    "                        optimizer.zero_grad()\n",
    "                        loss.backward()\n",
    "                        optimizer.step()\n",
    "\n",
    "                # statistics\n",
    "                running_loss += loss.item() * inputs.size(0)\n",
    "                running_corrects += torch.sum(preds == labels.data)\n",
    "\n",
    "            if phase == 'train':\n",
    "                scheduler.step()\n",
    "\n",
    "            epoch_loss = running_loss / dataset_sizes[phase]\n",
    "            epoch_acc = running_corrects.double() / dataset_sizes[phase]\n",
    "\n",
    "            print('{} Loss: {:.4f} Acc: {:.4f}'.format(\n",
    "                phase, epoch_loss, epoch_acc))\n",
    "\n",
    "            # deep copy the model\n",
    "            if phase == 'val' and epoch_acc > best_acc:\n",
    "                best_acc = epoch_acc\n",
    "                best_model_wts = copy.deepcopy(model.state_dict())\n",
    "\n",
    "        print()\n",
    "\n",
    "    time_elapsed = time.time() - since\n",
    "    print('Training complete in {:.0f}m {:.0f}s'.format(\n",
    "        time_elapsed // 60, time_elapsed % 60))\n",
    "    print('Best val Acc: {:4f}'.format(best_acc))\n",
    "\n",
    "    # load best model weights\n",
    "    model.load_state_dict(best_model_wts)\n",
    "    return model"
   ]
  },
  {
   "cell_type": "code",
   "execution_count": null,
   "metadata": {},
   "outputs": [],
   "source": []
  }
 ]
}