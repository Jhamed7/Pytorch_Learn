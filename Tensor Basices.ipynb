{
 "metadata": {
  "language_info": {
   "codemirror_mode": {
    "name": "ipython",
    "version": 3
   },
   "file_extension": ".py",
   "mimetype": "text/x-python",
   "name": "python",
   "nbconvert_exporter": "python",
   "pygments_lexer": "ipython3",
   "version": "3.8.5-final"
  },
  "orig_nbformat": 2,
  "kernelspec": {
   "name": "python3",
   "display_name": "Python 3.8.5 64-bit ('torch_env': conda)",
   "metadata": {
    "interpreter": {
     "hash": "a540765afc3ebabd983bef2e26554cb4fa4a9b3cc00e78a3b09b81cf7d41d4fb"
    }
   }
  }
 },
 "nbformat": 4,
 "nbformat_minor": 2,
 "cells": [
  {
   "cell_type": "code",
   "execution_count": 1,
   "metadata": {},
   "outputs": [],
   "source": [
    "import torch\n",
    "from __future__ import print_function"
   ]
  },
  {
   "cell_type": "code",
   "execution_count": 2,
   "metadata": {},
   "outputs": [
    {
     "output_type": "execute_result",
     "data": {
      "text/plain": [
       "tensor([0., 0.])"
      ]
     },
     "metadata": {},
     "execution_count": 2
    }
   ],
   "source": [
    "x= torch.empty(2)\n",
    "x"
   ]
  },
  {
   "cell_type": "code",
   "execution_count": 3,
   "metadata": {},
   "outputs": [
    {
     "output_type": "execute_result",
     "data": {
      "text/plain": [
       "tensor([[0.7083, 0.6341, 0.6460],\n",
       "        [0.6272, 0.6577, 0.0530]])"
      ]
     },
     "metadata": {},
     "execution_count": 3
    }
   ],
   "source": [
    "x1 = torch.rand(2,3)\n",
    "x1"
   ]
  },
  {
   "cell_type": "code",
   "execution_count": 4,
   "metadata": {},
   "outputs": [
    {
     "output_type": "execute_result",
     "data": {
      "text/plain": [
       "tensor([8, 5])"
      ]
     },
     "metadata": {},
     "execution_count": 4
    }
   ],
   "source": [
    "x2 = torch.randint(9,(2,)) # random integer from 0 to 9(exclusive)\n",
    "x2"
   ]
  },
  {
   "cell_type": "code",
   "execution_count": 5,
   "metadata": {},
   "outputs": [
    {
     "output_type": "execute_result",
     "data": {
      "text/plain": [
       "tensor([[1., 1., 1., 1.],\n",
       "        [1., 1., 1., 1.],\n",
       "        [1., 1., 1., 1.]], dtype=torch.float16)"
      ]
     },
     "metadata": {},
     "execution_count": 5
    }
   ],
   "source": [
    "y = torch.ones(3,4, dtype= torch.float16)\n",
    "y"
   ]
  },
  {
   "cell_type": "code",
   "execution_count": 6,
   "metadata": {},
   "outputs": [
    {
     "output_type": "execute_result",
     "data": {
      "text/plain": [
       "torch.Size([3, 4])"
      ]
     },
     "metadata": {},
     "execution_count": 6
    }
   ],
   "source": [
    "y.size()"
   ]
  },
  {
   "cell_type": "code",
   "execution_count": 7,
   "metadata": {},
   "outputs": [
    {
     "output_type": "execute_result",
     "data": {
      "text/plain": [
       "tensor([1., 2., 3., 4.], dtype=torch.float64)"
      ]
     },
     "metadata": {},
     "execution_count": 7
    }
   ],
   "source": [
    "# list to tensor\n",
    "y1 = torch.tensor(data=[1,2,3,4], dtype= torch.double, device= 'cpu')\n",
    "y1"
   ]
  },
  {
   "cell_type": "code",
   "execution_count": 8,
   "metadata": {},
   "outputs": [
    {
     "output_type": "stream",
     "name": "stdout",
     "text": [
      "tensor([[0.4141, 0.5380],\n        [0.9299, 0.4954]])\ntensor([[0.9701, 0.4390],\n        [0.5562, 0.7031]])\ntensor([[1.3842, 0.9770],\n        [1.4862, 1.1986]])\n"
     ]
    }
   ],
   "source": [
    "a = torch.rand(2,2)\n",
    "b = torch.rand(2,2)\n",
    "print(a)\n",
    "print(b)\n",
    "c = a + b\n",
    "c = torch.add(a,b)  # Several ways for doing Sum or other math functions\n",
    "b.add_(a)       # inplace add\n",
    "print(b)"
   ]
  },
  {
   "cell_type": "code",
   "execution_count": 9,
   "metadata": {},
   "outputs": [
    {
     "output_type": "execute_result",
     "data": {
      "text/plain": [
       "'torch.FloatTensor'"
      ]
     },
     "metadata": {},
     "execution_count": 9
    }
   ],
   "source": [
    "b.type()"
   ]
  },
  {
   "cell_type": "code",
   "execution_count": 10,
   "metadata": {},
   "outputs": [
    {
     "output_type": "stream",
     "name": "stdout",
     "text": [
      "tensor([[6, 5, 7, 4, 0],\n        [2, 7, 5, 4, 2],\n        [4, 4, 8, 0, 0],\n        [4, 2, 4, 3, 4]])\ntensor([4, 4, 8, 0, 0])\ntensor([7, 5, 8, 4])\ntensor(8)\n"
     ]
    }
   ],
   "source": [
    "# Slicing\n",
    "torch.manual_seed(42) # force torch to produce same random array!\n",
    "z = torch.randint(9, (4,5))\n",
    "print(z)\n",
    "\n",
    "print(z[2]) # 3rd row\n",
    "print(z[:,2]) # 3rd column\n",
    "print(z[2,2]) # (3,3) element / actual value for one element is: z[2,2].item()"
   ]
  },
  {
   "cell_type": "code",
   "execution_count": 11,
   "metadata": {},
   "outputs": [
    {
     "output_type": "stream",
     "name": "stdout",
     "text": [
      "tensor([[6, 5, 7, 4, 0],\n        [2, 7, 5, 4, 2],\n        [4, 4, 8, 0, 0],\n        [4, 2, 4, 3, 4]])\ntensor([[6, 5, 7, 4, 0, 2, 7, 5, 4, 2],\n        [4, 4, 8, 0, 0, 4, 2, 4, 3, 4]])\ntensor([[6, 5, 7, 4],\n        [0, 2, 7, 5],\n        [4, 2, 4, 4],\n        [8, 0, 0, 4],\n        [2, 4, 3, 4]])\n"
     ]
    },
    {
     "output_type": "execute_result",
     "data": {
      "text/plain": [
       "tensor([[6, 5, 7, 4, 0],\n",
       "        [2, 7, 5, 4, 2],\n",
       "        [4, 4, 8, 0, 0],\n",
       "        [4, 2, 4, 3, 4]])"
      ]
     },
     "metadata": {},
     "execution_count": 11
    }
   ],
   "source": [
    "# Reshape with \"view\"\n",
    "print(z)\n",
    "print(z.view(2,10))\n",
    "print(z.view(5,-1))\n",
    "z # there is no change with original tensor"
   ]
  },
  {
   "cell_type": "code",
   "execution_count": 12,
   "metadata": {},
   "outputs": [
    {
     "output_type": "stream",
     "name": "stdout",
     "text": [
      "tensor([[6, 5, 7, 4, 0],\n        [2, 7, 5, 4, 2],\n        [4, 4, 8, 0, 0],\n        [4, 2, 4, 3, 4]])\ntensor([[6, 5, 7, 4],\n        [0, 2, 7, 5],\n        [4, 2, 4, 4],\n        [8, 0, 0, 4],\n        [2, 4, 3, 4]])\n"
     ]
    },
    {
     "output_type": "execute_result",
     "data": {
      "text/plain": [
       "tensor([[6, 5, 7, 4, 0],\n",
       "        [2, 7, 5, 4, 2],\n",
       "        [4, 4, 8, 0, 0],\n",
       "        [4, 2, 4, 3, 4]])"
      ]
     },
     "metadata": {},
     "execution_count": 12
    }
   ],
   "source": [
    "# Reshape with \"reshape\"\n",
    "print(z)\n",
    "print(z.reshape(5,-1))\n",
    "z # there is no change with original tensor"
   ]
  },
  {
   "cell_type": "code",
   "execution_count": 13,
   "metadata": {},
   "outputs": [
    {
     "output_type": "stream",
     "name": "stderr",
     "text": [
      "C:\\Users\\JHamed\\miniconda3\\envs\\torch_env\\lib\\site-packages\\torch\\tensor.py:474: UserWarning: non-inplace resize is deprecated\n  warnings.warn(\"non-inplace resize is deprecated\")\n"
     ]
    }
   ],
   "source": [
    "z1 = z.resize(5,4)"
   ]
  },
  {
   "cell_type": "code",
   "execution_count": 14,
   "metadata": {},
   "outputs": [
    {
     "output_type": "stream",
     "name": "stdout",
     "text": [
      "tensor([[0.7083, 0.6341, 0.6460],\n        [0.6272, 0.6577, 0.0530]])\n[[0.7082795  0.6341088  0.64598256]\n [0.6272141  0.65765196 0.05298179]]\n<class 'numpy.ndarray'>\n\n\ntensor([[1.7083, 1.6341, 1.6460],\n        [1.6272, 1.6577, 1.0530]])\n[[1.7082795 1.6341088 1.6459825]\n [1.6272141 1.6576519 1.0529819]]\n"
     ]
    }
   ],
   "source": [
    "# convert to numpy array\n",
    "print(x1)\n",
    "x1_np = x1.numpy()\n",
    "print(x1_np)\n",
    "print(type(x1_np))\n",
    "\n",
    "print('\\n')\n",
    "x1.add_(1) # if we change x1\n",
    "print(x1)\n",
    "print(x1_np) # x1_np will change too!"
   ]
  },
  {
   "cell_type": "code",
   "execution_count": 31,
   "metadata": {},
   "outputs": [
    {
     "output_type": "stream",
     "name": "stdout",
     "text": [
      "CPU only\ncpu\ncpu\n"
     ]
    }
   ],
   "source": [
    "# Device : CPU or GPU\n",
    "if torch.cuda.is_available():  # if torch.has_cuda: -> bool\n",
    "    print(\"GPU\")\n",
    "    device = torch.device(\"cuda\")\n",
    "else:\n",
    "    print(\"CPU only\")\n",
    "    device = torch.device(\"cpu\")\n",
    "    print(device)\n",
    "\n",
    "a = torch.tensor([1,2,3], device= device)\n",
    "print(a.device)"
   ]
  },
  {
   "cell_type": "code",
   "execution_count": 35,
   "metadata": {},
   "outputs": [
    {
     "output_type": "error",
     "ename": "AssertionError",
     "evalue": "Torch not compiled with CUDA enabled",
     "traceback": [
      "\u001b[1;31m---------------------------------------------------------------------------\u001b[0m",
      "\u001b[1;31mAssertionError\u001b[0m                            Traceback (most recent call last)",
      "\u001b[1;32m<ipython-input-35-b4e241c570a6>\u001b[0m in \u001b[0;36m<module>\u001b[1;34m\u001b[0m\n\u001b[0;32m      1\u001b[0m \u001b[0ma\u001b[0m\u001b[1;33m.\u001b[0m\u001b[0mto\u001b[0m\u001b[1;33m(\u001b[0m\u001b[0mdevice\u001b[0m\u001b[1;33m)\u001b[0m\u001b[1;33m\u001b[0m\u001b[1;33m\u001b[0m\u001b[0m\n\u001b[1;32m----> 2\u001b[1;33m \u001b[0ma\u001b[0m\u001b[1;33m.\u001b[0m\u001b[0mto\u001b[0m\u001b[1;33m(\u001b[0m\u001b[1;34m'cuda'\u001b[0m\u001b[1;33m)\u001b[0m\u001b[1;33m\u001b[0m\u001b[1;33m\u001b[0m\u001b[0m\n\u001b[0m",
      "\u001b[1;32m~\\miniconda3\\envs\\torch_env\\lib\\site-packages\\torch\\cuda\\__init__.py\u001b[0m in \u001b[0;36m_lazy_init\u001b[1;34m()\u001b[0m\n\u001b[0;32m    162\u001b[0m                 \"multiprocessing, you must use the 'spawn' start method\")\n\u001b[0;32m    163\u001b[0m         \u001b[1;32mif\u001b[0m \u001b[1;32mnot\u001b[0m \u001b[0mhasattr\u001b[0m\u001b[1;33m(\u001b[0m\u001b[0mtorch\u001b[0m\u001b[1;33m.\u001b[0m\u001b[0m_C\u001b[0m\u001b[1;33m,\u001b[0m \u001b[1;34m'_cuda_getDeviceCount'\u001b[0m\u001b[1;33m)\u001b[0m\u001b[1;33m:\u001b[0m\u001b[1;33m\u001b[0m\u001b[1;33m\u001b[0m\u001b[0m\n\u001b[1;32m--> 164\u001b[1;33m             \u001b[1;32mraise\u001b[0m \u001b[0mAssertionError\u001b[0m\u001b[1;33m(\u001b[0m\u001b[1;34m\"Torch not compiled with CUDA enabled\"\u001b[0m\u001b[1;33m)\u001b[0m\u001b[1;33m\u001b[0m\u001b[1;33m\u001b[0m\u001b[0m\n\u001b[0m\u001b[0;32m    165\u001b[0m         \u001b[1;32mif\u001b[0m \u001b[0m_cudart\u001b[0m \u001b[1;32mis\u001b[0m \u001b[1;32mNone\u001b[0m\u001b[1;33m:\u001b[0m\u001b[1;33m\u001b[0m\u001b[1;33m\u001b[0m\u001b[0m\n\u001b[0;32m    166\u001b[0m             raise AssertionError(\n",
      "\u001b[1;31mAssertionError\u001b[0m: Torch not compiled with CUDA enabled"
     ]
    }
   ],
   "source": [
    "a.to(device)\n",
    "# a.to('cuda') # AssertionError: Torch not compiled with CUDA enabled"
   ]
  },
  {
   "cell_type": "code",
   "execution_count": 69,
   "metadata": {},
   "outputs": [
    {
     "output_type": "execute_result",
     "data": {
      "text/plain": [
       "False"
      ]
     },
     "metadata": {},
     "execution_count": 69
    }
   ],
   "source": [
    "a.is_cuda # checks that if a is on cuda or not"
   ]
  },
  {
   "source": [
    "## Gradiant in Pytorch"
   ],
   "cell_type": "markdown",
   "metadata": {}
  },
  {
   "cell_type": "code",
   "execution_count": 61,
   "metadata": {},
   "outputs": [
    {
     "output_type": "execute_result",
     "data": {
      "text/plain": [
       "tensor([2., 3., 4.], requires_grad=True)"
      ]
     },
     "metadata": {},
     "execution_count": 61
    }
   ],
   "source": [
    "# Gradiants\n",
    "# Only Tensors of floating point and complex dtype can require gradients\n",
    "t = torch.tensor( [2,3,4], dtype=torch.float , requires_grad= True)\n",
    "t"
   ]
  },
  {
   "cell_type": "code",
   "execution_count": 62,
   "metadata": {},
   "outputs": [
    {
     "output_type": "stream",
     "name": "stdout",
     "text": [
      "tensor([4., 5., 6.], grad_fn=<AddBackward0>)\ntensor([12., 15., 18.], grad_fn=<MulBackward0>)\n"
     ]
    }
   ],
   "source": [
    "t2 = t + 2\n",
    "print(t2)\n",
    "t2.retain_grad() # needed for none leaf variable to keep gradiant\n",
    "\n",
    "t3 = t2 * 3\n",
    "print(t3)"
   ]
  },
  {
   "cell_type": "code",
   "execution_count": 63,
   "metadata": {},
   "outputs": [
    {
     "output_type": "execute_result",
     "data": {
      "text/plain": [
       "tensor([1., 1., 1.])"
      ]
     },
     "metadata": {},
     "execution_count": 63
    }
   ],
   "source": [
    "# grad (backward method) can be implicitly created only for scalar outputs\n",
    "t3.mean().backward() # mean() used to output scalar\n",
    "t.grad # leaf parameter\n",
    "t2.grad # non-leaf paramete (retain_grad used in previous cell)"
   ]
  },
  {
   "cell_type": "code",
   "execution_count": 72,
   "metadata": {},
   "outputs": [
    {
     "output_type": "stream",
     "name": "stdout",
     "text": [
      "tensor([2., 3., 4.])\ntensor([2., 3., 4.])\n"
     ]
    }
   ],
   "source": [
    "# omit requires_grad\n",
    "print(t)\n",
    "# one way:\n",
    "t.requires_grad_(False) # inplace\n",
    "print(t)\n",
    "# other way:\n",
    "#with torch.no_grad:\n",
    "    # codes runs without grdiant computing\n",
    "    #pass\n"
   ]
  },
  {
   "cell_type": "code",
   "execution_count": 6,
   "metadata": {},
   "outputs": [
    {
     "output_type": "stream",
     "name": "stdout",
     "text": [
      "tensor([1., 2., 3.], requires_grad=True)\n",
      "tensor([3., 3., 3.])\n",
      "tensor([6., 6., 6.])\n",
      "tensor([9., 9., 9.])\n"
     ]
    }
   ],
   "source": [
    "a = torch.tensor([1,2,3], dtype= torch.float, requires_grad= True)\n",
    "print(a)\n",
    "\n",
    "for i in range(3):\n",
    "    output = (a * 3).sum()\n",
    "    output.backward()\n",
    "    print(a.grad)\n",
    "    # we should add a.grad.zero_() in loop to correct calculations"
   ]
  },
  {
   "cell_type": "code",
   "execution_count": 37,
   "metadata": {},
   "outputs": [
    {
     "output_type": "execute_result",
     "data": {
      "text/plain": [
       "tensor([1., 2., 3.], requires_grad=True)"
      ]
     },
     "metadata": {},
     "execution_count": 37
    }
   ],
   "source": [
    "a"
   ]
  },
  {
   "cell_type": "code",
   "execution_count": 38,
   "metadata": {},
   "outputs": [],
   "source": [
    "b= torch.tensor([1,2,6])"
   ]
  },
  {
   "cell_type": "code",
   "execution_count": 40,
   "metadata": {},
   "outputs": [
    {
     "output_type": "execute_result",
     "data": {
      "text/plain": [
       "(tensor([2]),)"
      ]
     },
     "metadata": {},
     "execution_count": 40
    }
   ],
   "source": [
    "torch.where(a != b)"
   ]
  },
  {
   "cell_type": "code",
   "execution_count": 41,
   "metadata": {},
   "outputs": [
    {
     "output_type": "execute_result",
     "data": {
      "text/plain": [
       "(tensor([0, 1]),)"
      ]
     },
     "metadata": {},
     "execution_count": 41
    }
   ],
   "source": [
    "torch.nonzero(a==b, as_tuple=True)"
   ]
  },
  {
   "cell_type": "code",
   "execution_count": null,
   "metadata": {},
   "outputs": [],
   "source": []
  }
 ]
}